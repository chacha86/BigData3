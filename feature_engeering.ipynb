{
  "nbformat": 4,
  "nbformat_minor": 0,
  "metadata": {
    "colab": {
      "name": "feature engeering.ipynb",
      "provenance": [],
      "collapsed_sections": [],
      "authorship_tag": "ABX9TyOA9+b2s9gx6P57ZqONEpIA",
      "include_colab_link": true
    },
    "kernelspec": {
      "name": "python3",
      "display_name": "Python 3"
    },
    "language_info": {
      "name": "python"
    }
  },
  "cells": [
    {
      "cell_type": "markdown",
      "metadata": {
        "id": "view-in-github",
        "colab_type": "text"
      },
      "source": [
        "<a href=\"https://colab.research.google.com/github/chacha86/BigData3/blob/colab/feature_engeering.ipynb\" target=\"_parent\"><img src=\"https://colab.research.google.com/assets/colab-badge.svg\" alt=\"Open In Colab\"/></a>"
      ]
    },
    {
      "cell_type": "code",
      "execution_count": 17,
      "metadata": {
        "colab": {
          "base_uri": "https://localhost:8080/"
        },
        "id": "jxUYiOyDSOrJ",
        "outputId": "29d67d0e-b8f9-4c27-b5f8-462c4ea4e981"
      },
      "outputs": [
        {
          "output_type": "execute_result",
          "data": {
            "text/plain": [
              "array(['x0', 'x0^2', 'x0^3', 'x0^4'], dtype=object)"
            ]
          },
          "metadata": {},
          "execution_count": 17
        }
      ],
      "source": [
        "import pandas as pd\n",
        "import numpy as np\n",
        "import matplotlib.pyplot as plt\n",
        "\n",
        "fish = pd.read_csv('/content/Fish.csv')\n",
        "fish\n",
        "\n",
        "# 도미의 길이로 무게를 예측\n",
        "perch_length = fish[fish['Species'] == 'Perch']['Length1'].values\n",
        "perch_weight = fish[fish['Species'] == 'Perch']['Weight'].values\n",
        "\n",
        "from sklearn.preprocessing import PolynomialFeatures\n",
        "\n",
        "perch_length = perch_length.reshape(-1, 1)\n",
        "\n",
        "poly = PolynomialFeatures(degree=4, include_bias=False)\n",
        "\n",
        "poly.fit(perch_length, perch_weight)\n",
        "\n",
        "poly_data = poly.transform(perch_length)\n",
        "\n",
        "from sklearn.model_selection import train_test_split\n",
        "trd, tsd, trt, tst = train_test_split(poly_data, perch_length)\n",
        "\n",
        "from sklearn.linear_model import LinearRegression\n",
        "\n",
        "lr = LinearRegression()\n",
        "lr.fit(trd, trt)\n",
        "lr.score(trd, trt), lr.score(tsd, tst)\n",
        "\n",
        "# trd = trd.reshape(-1, 1) # 학습데이터는 2차원 배열이어야 한다.\n",
        "# tsd = tsd.reshape(-1, 1)\n",
        "\n",
        "poly.get_feature_names_out()"
      ]
    },
    {
      "cell_type": "code",
      "source": [
        ""
      ],
      "metadata": {
        "id": "8zOY6-ifTaze"
      },
      "execution_count": null,
      "outputs": []
    }
  ]
}